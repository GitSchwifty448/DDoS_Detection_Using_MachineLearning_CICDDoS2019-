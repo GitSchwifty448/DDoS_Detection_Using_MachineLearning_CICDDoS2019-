{
  "nbformat": 4,
  "nbformat_minor": 0,
  "metadata": {
    "colab": {
      "provenance": []
    },
    "kernelspec": {
      "name": "python3",
      "display_name": "Python 3"
    },
    "language_info": {
      "name": "python"
    }
  },
  "cells": [
    {
      "cell_type": "code",
      "execution_count": 1,
      "metadata": {
        "id": "P3-v75MJKWjT"
      },
      "outputs": [],
      "source": []
    },
    {
      "cell_type": "code",
      "source": [],
      "metadata": {
        "colab": {
          "base_uri": "https://localhost:8080/"
        },
        "id": "QuMwVjXSKlTJ",
        "outputId": "b8aaacce-e83d-46e5-c241-2ba4012006d9"
      },
      "execution_count": 3,
      "outputs": [
        {
          "output_type": "stream",
          "name": "stderr",
          "text": [
            "/tmp/ipython-input-530334098.py:2: DtypeWarning: Columns (85) have mixed types. Specify dtype option on import or set low_memory=False.\n",
            "  df = pd.read_csv(r\"/content/drive/MyDrive/Portmap.csv\")\n"
          ]
        },
        {
          "output_type": "stream",
          "name": "stdout",
          "text": [
            "Empty DataFrame\n",
            "Columns: [Unnamed: 0, Flow ID,  Source IP,  Source Port,  Destination IP,  Destination Port,  Protocol,  Timestamp,  Flow Duration,  Total Fwd Packets,  Total Backward Packets, Total Length of Fwd Packets,  Total Length of Bwd Packets,  Fwd Packet Length Max,  Fwd Packet Length Min,  Fwd Packet Length Mean,  Fwd Packet Length Std, Bwd Packet Length Max,  Bwd Packet Length Min,  Bwd Packet Length Mean,  Bwd Packet Length Std, Flow Bytes/s,  Flow Packets/s,  Flow IAT Mean,  Flow IAT Std,  Flow IAT Max,  Flow IAT Min, Fwd IAT Total,  Fwd IAT Mean,  Fwd IAT Std,  Fwd IAT Max,  Fwd IAT Min, Bwd IAT Total,  Bwd IAT Mean,  Bwd IAT Std,  Bwd IAT Max,  Bwd IAT Min, Fwd PSH Flags,  Bwd PSH Flags,  Fwd URG Flags,  Bwd URG Flags,  Fwd Header Length,  Bwd Header Length, Fwd Packets/s,  Bwd Packets/s,  Min Packet Length,  Max Packet Length,  Packet Length Mean,  Packet Length Std,  Packet Length Variance, FIN Flag Count,  SYN Flag Count,  RST Flag Count,  PSH Flag Count,  ACK Flag Count,  URG Flag Count,  CWE Flag Count,  ECE Flag Count,  Down/Up Ratio,  Average Packet Size,  Avg Fwd Segment Size,  Avg Bwd Segment Size,  Fwd Header Length.1, Fwd Avg Bytes/Bulk,  Fwd Avg Packets/Bulk,  Fwd Avg Bulk Rate,  Bwd Avg Bytes/Bulk,  Bwd Avg Packets/Bulk, Bwd Avg Bulk Rate, Subflow Fwd Packets,  Subflow Fwd Bytes,  Subflow Bwd Packets,  Subflow Bwd Bytes, Init_Win_bytes_forward,  Init_Win_bytes_backward,  act_data_pkt_fwd,  min_seg_size_forward, Active Mean,  Active Std,  Active Max,  Active Min, Idle Mean,  Idle Std,  Idle Max,  Idle Min, SimillarHTTP,  Inbound,  Label]\n",
            "Index: []\n",
            "\n",
            "[0 rows x 88 columns]\n"
          ]
        }
      ]
    },
    {
      "cell_type": "code",
      "source": [
        "# -*- coding: utf-8 -*-\n",
        "\"\"\"CICDDoS2019 KNN Dual Classification\"\"\"\n",
        "\n",
        "import pandas as pd\n",
        "import numpy as np\n",
        "import matplotlib.pyplot as plt\n",
        "from sklearn.preprocessing import LabelEncoder, StandardScaler\n",
        "from imblearn.over_sampling import RandomOverSampler\n",
        "from sklearn.model_selection import train_test_split\n",
        "from sklearn.neighbors import KNeighborsClassifier\n",
        "from sklearn.metrics import classification_report, confusion_matrix, ConfusionMatrixDisplay\n",
        "print(\"Done importing...\")\n",
        "# ----------------------------\n",
        "# Load Dataset\n",
        "# ----------------------------\n",
        "df = pd.read_csv(r\"/content/drive/MyDrive/Friday-WorkingHours-Afternoon-DDos.pcap_ISCX.csv\")\n",
        "df.columns = df.columns.str.strip()\n",
        "\n",
        "print(\"Done Loading...\")\n",
        "# Drop unnecessary columns\n",
        "drop_cols = ['Flow ID', 'Source IP', 'Destination IP', 'Timestamp', 'SimillarHTTP']\n",
        "df = df.drop(columns=drop_cols, errors=\"ignore\")\n",
        "\n",
        "print(\"Done Dropping unnecessary cols...\")\n",
        "# Encode multiclass labels\n",
        "le = LabelEncoder()\n",
        "df[\"Label\"] = le.fit_transform(df[\"Label\"])\n",
        "print(\"Label mapping:\", dict(zip(le.classes_, le.transform(le.classes_))))\n",
        "\n",
        "print(\"Done encoding labels(multi)...\")\n",
        "# Create binary label: 0 = BENIGN, 1 = Attack\n",
        "df[\"BinaryLabel\"] = df[\"Label\"].apply(lambda x: 0 if x == 0 else 1)\n",
        "\n",
        "print(\"Done encoding labels(bin)...\")\n",
        "# Replace inf and NaN\n",
        "df = df.replace([np.inf, -np.inf], np.nan).fillna(0)\n",
        "print(\"Done replacing inf...\")\n",
        "# ----------------------------\n",
        "# Shuffle and split dataset\n",
        "# ----------------------------\n",
        "df_shuffled = df.sample(frac=1, random_state=42).reset_index(drop=True)\n",
        "\n",
        "train_end = int(0.6 * len(df_shuffled))\n",
        "valid_end = int(0.8 * len(df_shuffled))\n",
        "\n",
        "train_df = df_shuffled.iloc[:train_end].copy()\n",
        "valid_df = df_shuffled.iloc[train_end:valid_end].copy()\n",
        "test_df  = df_shuffled.iloc[valid_end:].copy()\n",
        "print(\"Done shuffling and split...\")\n",
        "# ----------------------------\n",
        "# Function to scale and optionally oversample\n",
        "# ----------------------------\n",
        "def scale_dataset(df, target_col, oversample=False):\n",
        "    X = df.drop(columns=[target_col, \"BinaryLabel\"])  # keep only features\n",
        "    y = df[target_col].values\n",
        "    scaler = StandardScaler()\n",
        "    X_scaled = scaler.fit_transform(X)\n",
        "\n",
        "    if oversample:\n",
        "        ros = RandomOverSampler(random_state=42)\n",
        "        X_scaled, y = ros.fit_resample(X_scaled, y)\n",
        "\n",
        "    return X_scaled, y\n",
        "\n",
        "# ----------------------------\n",
        "# Prepare datasets for multiclass and binary\n",
        "# ----------------------------\n",
        "# Multiclass\n",
        "X_train_multi, y_train_multi = scale_dataset(train_df, target_col=\"Label\", oversample=True)\n",
        "X_valid_multi, y_valid_multi = scale_dataset(valid_df, target_col=\"Label\", oversample=False)\n",
        "X_test_multi, y_test_multi   = scale_dataset(test_df, target_col=\"Label\", oversample=False)\n",
        "\n",
        "# Binary\n",
        "X_train_bin, y_train_bin = scale_dataset(train_df, target_col=\"BinaryLabel\", oversample=True)\n",
        "X_valid_bin, y_valid_bin = scale_dataset(valid_df, target_col=\"BinaryLabel\", oversample=False)\n",
        "X_test_bin, y_test_bin   = scale_dataset(test_df, target_col=\"BinaryLabel\", oversample=False)\n",
        "\n",
        "# ----------------------------\n",
        "# Train KNN - Multiclass\n",
        "# ----------------------------\n",
        "knn_multi = KNeighborsClassifier(n_neighbors=3)\n",
        "knn_multi.fit(X_train_multi, y_train_multi)\n",
        "y_pred_multi = knn_multi.predict(X_test_multi)\n",
        "\n",
        "print(\"\\n=== Multiclass Classification Report ===\")\n",
        "print(classification_report(y_test_multi, y_pred_multi, target_names=le.classes_, zero_division=0))\n",
        "\n",
        "# Optional: Confusion Matrix\n",
        "cm_multi = confusion_matrix(y_test_multi, y_pred_multi)\n",
        "disp_multi = ConfusionMatrixDisplay(confusion_matrix=cm_multi, display_labels=le.classes_)\n",
        "disp_multi.plot(xticks_rotation=45, cmap='Blues')\n",
        "plt.title(\"Multiclass Confusion Matrix\")\n",
        "plt.show()\n",
        "\n",
        "# ----------------------------\n",
        "# Train KNN - Binary\n",
        "# ----------------------------\n",
        "knn_bin = KNeighborsClassifier(n_neighbors=3)\n",
        "knn_bin.fit(X_train_bin, y_train_bin)\n",
        "y_pred_bin = knn_bin.predict(X_test_bin)\n",
        "\n",
        "print(\"\\n=== Binary Classification Report ===\")\n",
        "print(classification_report(y_test_bin, y_pred_bin, target_names=[\"Benign\", \"Attack\"], zero_division=0))\n",
        "\"\"\"\n",
        "# Optional: Confusion Matrix\n",
        "cm_bin = confusion_matrix(y_test_bin, y_pred_bin)\n",
        "disp_bin = ConfusionMatrixDisplay(confusion_matrix=cm_bin, display_labels=[\"Benign\", \"Attack\"])\n",
        "disp_bin.plot(cmap='Blues')\n",
        "plt.title(\"Binary Confusion Matrix\")\n",
        "plt.show()\n",
        "\"\"\""
      ],
      "metadata": {
        "colab": {
          "base_uri": "https://localhost:8080/",
          "height": 1000
        },
        "id": "dXCp4xlGKlWc",
        "outputId": "d15f80fa-a835-4a35-e139-4edee770dcb2"
      },
      "execution_count": 8,
      "outputs": [
        {
          "output_type": "stream",
          "name": "stdout",
          "text": [
            "Done importing...\n",
            "Done Loading...\n",
            "Done Dropping unnecessary cols...\n",
            "Label mapping: {'BENIGN': np.int64(0), 'DDoS': np.int64(1)}\n",
            "Done encoding labels(multi)...\n",
            "Done encoding labels(bin)...\n",
            "Done replacing inf...\n",
            "Done shuffling and split...\n",
            "\n",
            "=== Multiclass Classification Report ===\n",
            "              precision    recall  f1-score   support\n",
            "\n",
            "      BENIGN       1.00      1.00      1.00     19552\n",
            "        DDoS       1.00      1.00      1.00     25597\n",
            "\n",
            "    accuracy                           1.00     45149\n",
            "   macro avg       1.00      1.00      1.00     45149\n",
            "weighted avg       1.00      1.00      1.00     45149\n",
            "\n"
          ]
        },
        {
          "output_type": "display_data",
          "data": {
            "text/plain": [
              "<Figure size 640x480 with 2 Axes>"
            ],
            "image/png": "[encoded data removed]"
          },
          "metadata": {}
        },
        {
          "output_type": "stream",
          "name": "stdout",
          "text": [
            "\n",
            "=== Binary Classification Report ===\n",
            "              precision    recall  f1-score   support\n",
            "\n",
            "      Benign       1.00      1.00      1.00     19552\n",
            "      Attack       1.00      1.00      1.00     25597\n",
            "\n",
            "    accuracy                           1.00     45149\n",
            "   macro avg       1.00      1.00      1.00     45149\n",
            "weighted avg       1.00      1.00      1.00     45149\n",
            "\n"
          ]
        },
        {
          "output_type": "execute_result",
          "data": {
            "text/plain": [
              "'\\n# Optional: Confusion Matrix\\ncm_bin = confusion_matrix(y_test_bin, y_pred_bin)\\ndisp_bin = ConfusionMatrixDisplay(confusion_matrix=cm_bin, display_labels=[\"Benign\", \"Attack\"])\\ndisp_bin.plot(cmap=\\'Blues\\')\\nplt.title(\"Binary Confusion Matrix\")\\nplt.show()\\n'"
            ],
            "application/vnd.google.colaboratory.intrinsic+json": {
              "type": "string"
            }
          },
          "metadata": {},
          "execution_count": 8
        }
      ]
    },
    {
      "cell_type": "code",
      "source": [
        "from sklearn.ensemble import RandomForestClassifier\n",
        "\n",
        "# Train RF on multiclass labels\n",
        "rf = RandomForestClassifier(n_estimators=200, random_state=42, class_weight=\"balanced\")\n",
        "rf.fit(X_train_multi, y_train_multi)\n",
        "\n",
        "# Multiclass predictions\n",
        "y_pred_multi = rf.predict(X_test_multi)\n",
        "\n",
        "# Binary predictions\n",
        "y_pred_binary = np.where(y_pred_multi == 0, 0, 1)\n",
        "\n",
        "# Reports\n",
        "from sklearn.metrics import classification_report\n",
        "\n",
        "print(\"=== Multiclass Report ===\")\n",
        "print(classification_report(y_test_multi, y_pred_multi, target_names=le.classes_, zero_division=0))\n",
        "\n",
        "print(\"=== Binary Report ===\")\n",
        "print(classification_report(y_test_bin, y_pred_binary, target_names=[\"Benign\", \"Attack\"], zero_division=0))"
      ],
      "metadata": {
        "colab": {
          "base_uri": "https://localhost:8080/"
        },
        "id": "1jxx_wN7hbn8",
        "outputId": "66b7f808-6d87-44c2-9847-002ec9cc0606"
      },
      "execution_count": 9,
      "outputs": [
        {
          "output_type": "stream",
          "name": "stdout",
          "text": [
            "=== Multiclass Report ===\n",
            "              precision    recall  f1-score   support\n",
            "\n",
            "      BENIGN       0.90      1.00      0.95     19552\n",
            "        DDoS       1.00      0.92      0.96     25597\n",
            "\n",
            "    accuracy                           0.95     45149\n",
            "   macro avg       0.95      0.96      0.95     45149\n",
            "weighted avg       0.96      0.95      0.95     45149\n",
            "\n",
            "=== Binary Report ===\n",
            "              precision    recall  f1-score   support\n",
            "\n",
            "      Benign       0.90      1.00      0.95     19552\n",
            "      Attack       1.00      0.92      0.96     25597\n",
            "\n",
            "    accuracy                           0.95     45149\n",
            "   macro avg       0.95      0.96      0.95     45149\n",
            "weighted avg       0.96      0.95      0.95     45149\n",
            "\n"
          ]
        }
      ]
    }
  ]
}